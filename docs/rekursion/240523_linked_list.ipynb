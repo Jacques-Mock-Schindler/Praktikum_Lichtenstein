{
 "cells": [
  {
   "cell_type": "markdown",
   "metadata": {
    "id": "tRvoXLUvRiHo"
   },
   "source": [
    "# Linked List"
   ]
  },
  {
   "cell_type": "markdown",
   "metadata": {
    "id": "CCHy27fyRnK6"
   },
   "source": [
    "## Data Structure"
   ]
  },
  {
   "cell_type": "code",
   "execution_count": 23,
   "metadata": {
    "id": "3eaJZqoIRaJA"
   },
   "outputs": [],
   "source": [
    "class Node:\n",
    "    def __init__(self, key, parent=None, child=None):\n",
    "        self.key = key\n",
    "        self.parent = parent\n",
    "        self.child = child\n",
    "\n",
    "class LinkedList:\n",
    "    def __init__(self, node=None):\n",
    "        self.root = node\n",
    "\n",
    "    def insert(self, node, parent=None):\n",
    "        if self.root is None:\n",
    "            self.root = node\n",
    "            return\n",
    "\n",
    "        parent = self.root\n",
    "\n",
    "        while parent.child:\n",
    "            parent = parent.child\n",
    "\n",
    "        parent.child = node\n",
    "\n"
   ]
  },
  {
   "cell_type": "code",
   "execution_count": 24,
   "metadata": {
    "id": "AG_qxzgamsMW"
   },
   "outputs": [],
   "source": [
    "listA = LinkedList()\n",
    "\n",
    "node10 = Node(10)\n",
    "node20 = Node(20)"
   ]
  },
  {
   "cell_type": "code",
   "execution_count": 11,
   "metadata": {
    "colab": {
     "base_uri": "https://localhost:8080/",
     "height": 104
    },
    "id": "bolV5sHPnPlm",
    "outputId": "3e22b598-6490-4999-bdc7-38d3992ac353"
   },
   "outputs": [
    {
     "data": {
      "text/html": [
       "<div style=\"max-width:800px; border: 1px solid var(--colab-border-color);\"><style>\n",
       "      pre.function-repr-contents {\n",
       "        overflow-x: auto;\n",
       "        padding: 8px 12px;\n",
       "        max-height: 500px;\n",
       "      }\n",
       "\n",
       "      pre.function-repr-contents.function-repr-contents-collapsed {\n",
       "        cursor: pointer;\n",
       "        max-height: 100px;\n",
       "      }\n",
       "    </style>\n",
       "    <pre style=\"white-space: initial; background:\n",
       "         var(--colab-secondary-surface-color); padding: 8px 12px;\n",
       "         border-bottom: 1px solid var(--colab-border-color);\"><b>Node</b><br/>def __init__(key, parent=None, child=None)</pre><pre class=\"function-repr-contents function-repr-contents-collapsed\" style=\"\"><a class=\"filepath\" style=\"display:none\" href=\"#\"></a>&lt;no docstring&gt;</pre></div>"
      ],
      "text/plain": [
       "__main__.Node"
      ]
     },
     "execution_count": 11,
     "metadata": {},
     "output_type": "execute_result"
    }
   ],
   "source": [
    "type(node10)"
   ]
  },
  {
   "cell_type": "code",
   "execution_count": 20,
   "metadata": {
    "colab": {
     "base_uri": "https://localhost:8080/",
     "height": 0
    },
    "id": "ZI73WE7VnxZt",
    "outputId": "755a3d7c-fcb4-4308-d4d2-51aeadd873c9"
   },
   "outputs": [
    {
     "name": "stdout",
     "output_type": "stream",
     "text": [
      "None\n"
     ]
    }
   ],
   "source": [
    "print(listA.root)"
   ]
  },
  {
   "cell_type": "code",
   "execution_count": 25,
   "metadata": {
    "colab": {
     "base_uri": "https://localhost:8080/",
     "height": 0
    },
    "id": "o96m77y7omdb",
    "outputId": "01c7a918-d1b4-408b-8f60-6d826d87a2b4"
   },
   "outputs": [
    {
     "name": "stdout",
     "output_type": "stream",
     "text": [
      "10\n"
     ]
    }
   ],
   "source": [
    "listA.insert(node10)\n",
    "\n",
    "print(listA.root.key)"
   ]
  },
  {
   "cell_type": "code",
   "execution_count": 26,
   "metadata": {
    "colab": {
     "base_uri": "https://localhost:8080/",
     "height": 0
    },
    "id": "bnWI-sQNoza2",
    "outputId": "07d4c8b9-da9a-4652-d8bc-fef3c2d9bf1d"
   },
   "outputs": [
    {
     "name": "stdout",
     "output_type": "stream",
     "text": [
      "20\n"
     ]
    }
   ],
   "source": [
    "listA.insert(node20)\n",
    "print(listA.root.child.key)"
   ]
  },
  {
   "cell_type": "code",
   "execution_count": 27,
   "metadata": {
    "id": "1bGfGsHkxnCH"
   },
   "outputs": [],
   "source": [
    "class LinkedListR:\n",
    "    def __init__(self, node=None):\n",
    "        self.root = node\n",
    "\n",
    "    def insert(self, node, parent=None):\n",
    "        if self.root is None:\n",
    "            self.root = node\n",
    "            return\n",
    "\n",
    "        if parent is None:\n",
    "            parent = self.root\n",
    "\n",
    "        if parent.child is None:\n",
    "            parent.child = node\n",
    "        else:\n",
    "            self.insert(node, parent.child)"
   ]
  }
 ],
 "metadata": {
  "colab": {
   "provenance": []
  },
  "kernelspec": {
   "display_name": "Python 3 (ipykernel)",
   "language": "python",
   "name": "python3"
  },
  "language_info": {
   "codemirror_mode": {
    "name": "ipython",
    "version": 3
   },
   "file_extension": ".py",
   "mimetype": "text/x-python",
   "name": "python",
   "nbconvert_exporter": "python",
   "pygments_lexer": "ipython3",
   "version": "3.11.5"
  }
 },
 "nbformat": 4,
 "nbformat_minor": 1
}
